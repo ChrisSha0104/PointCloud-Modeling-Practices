{
 "cells": [
  {
   "cell_type": "markdown",
   "id": "4b215683",
   "metadata": {},
   "source": [
    "# Point Cloud Visualization"
   ]
  },
  {
   "cell_type": "code",
   "execution_count": null,
   "id": "70cf5590",
   "metadata": {},
   "outputs": [],
   "source": [
    "import open3d as o3d       # Open 3D 库：用于支持各种三维数据的操作\n",
    "import numpy as np\n",
    "import os                  # Operating System (OS) 模块：方便与操作系统进行交互 + 使代码更具有移植性\n",
    "import sys                 # System (sys) 模块：访问 Python 解释器自身使用和维护的变量"
   ]
  },
  {
   "cell_type": "code",
   "execution_count": null,
   "id": "58b4f28b",
   "metadata": {},
   "outputs": [],
   "source": [
    "# Open3D的点云可视化\n",
    "pcd = o3d.io.read_point_cloud('/Users/chris/Desktop/PointCloud/Pingpang/04.ply')     # 阅读点云文件\n",
    "print(pcd)                                                                           # 文件中的总点数\n",
    "print(np.asarray(pcd.points))                                                        # 文件中一些点数（首和尾）的坐标\n",
    "o3d.visualization.draw_geometries([pcd])                                             # 调用open3D的可视化软件\n",
    "\n",
    "\"\"\"\n",
    "重要函数：\n",
    "    read_point_cloud()            # 从文件中阅读点云\n",
    "\n",
    "重要函数：\n",
    "    draw_geometries()             # 点云可视化  \n",
    "输入参数: \n",
    "    [file]\n",
    "    zoom = k\n",
    "    front = [x,y,z]\n",
    "    lookat = [x,y,z]\n",
    "    up = [x,y,z]\n",
    "    point_show_normal = True/False\n",
    "\"\"\"# Voxel Downsampling （三维像素降低抽样）\n",
    "Voxel downsampling uses a regular voxel grid to create a uniformly downsampled point cloud from an input point cloud. It is often used as a pre-processing step for many point cloud processing tasks. The algorithm operates in two steps:\n",
    "    \n",
    "    1. Points are bucketed into voxels.\n",
    "    2. Each occupied voxel generates exactly one point by averaging all points inside."
   ]
  },
  {
   "cell_type": "markdown",
   "id": "a75e2511",
   "metadata": {},
   "source": [
    "# Voxel Downsampling （三维像素降低抽样）\n",
    "Voxel downsampling uses a regular voxel grid to create a uniformly downsampled point cloud from an input point cloud. It is often used as a pre-processing step for many point cloud processing tasks. The algorithm operates in two steps:\n",
    "    \n",
    "    1. Points are bucketed into voxels.\n",
    "    2. Each occupied voxel generates exactly one point by averaging all points inside."
   ]
  },
  {
   "cell_type": "code",
   "execution_count": null,
   "id": "fb43ada0",
   "metadata": {},
   "outputs": [],
   "source": [
    "# 点云降低抽样\n",
    "print(\"Downsample the point cloud with a voxel of 0.05\") \n",
    "downpcd = pcd.voxel_down_sample(voxel_size=0.05)              # 创建一个降低抽样的点云pcd；像素大小为0.05\n",
    "o3d.visualization.draw_geometries([downpcd])                  # 调用open3D的可视化软件\n",
    "\n",
    "\"\"\"\n",
    "重要函数：\n",
    "    voxel_down_sample(voxel_size = k)     # 降低至像素大小k  \n",
    "输入参数: \n",
    "    voxel size = k\n",
    "\"\"\""
   ]
  },
  {
   "cell_type": "markdown",
   "id": "a01d0434",
   "metadata": {},
   "source": [
    "# Vertex Normal Estimation （顶点法线）\n",
    "Another basic operation for point cloud is point normal estimation. Press N to see point normals. The keys - and + can be used to control the length of the normal.\n",
    "\n",
    "注：不同于面法线"
   ]
  },
  {
   "cell_type": "code",
   "execution_count": null,
   "id": "a2617f53",
   "metadata": {},
   "outputs": [],
   "source": [
    "# drawing a normal at every point in a point cloud\n",
    "print(\"Recompute the normal of the downsampled point cloud\")\n",
    "downpcd.estimate_normals(\n",
    "    search_param=o3d.geometry.KDTreeSearchParamHybrid(radius=0.1, max_nn=30))             # 计算每个点的顶点法线\n",
    "o3d.visualization.draw_geometries([downpcd], point_show_normal=True)                      # 调用open3D的可视化软件\n",
    "\n",
    "\"\"\"\n",
    "重要函数：\n",
    "    estimate_normals()                                          # 计算点云中每一个点的顶点法线\n",
    "输入参数: (search_para = KDTreeSearchParamHybrid())\n",
    "    输入参数: (radius = k                                        # 搜算半径\n",
    "            max_nn = k)                                         # 最大最近相邻的点 (i.e. maximum nearest neighbor)\n",
    "\"\"\""
   ]
  },
  {
   "cell_type": "markdown",
   "id": "2bcfc6dc",
   "metadata": {},
   "source": [
    "# 阅读并转换.txt点云\n",
    "CC - 点左上角的save"
   ]
  },
  {
   "cell_type": "markdown",
   "id": "4fedf0f8",
   "metadata": {},
   "source": [
    "# 统计滤波器（remove statistical outliers) "
   ]
  },
  {
   "cell_type": "code",
   "execution_count": null,
   "id": "5d10d50a",
   "metadata": {},
   "outputs": [],
   "source": [
    "pcd = o3d.io.read_point_cloud(\"rect_prism.pcd\")\n",
    "print(pcd)  # 输出点云点的个数\n",
    "o3d.visualization.draw_geometries([pcd], window_name=\"原始点云\",\n",
    "                                  width=1024, height=768,\n",
    "                                  left=50, top=50,\n",
    "                                  mesh_show_back_face=False)\n",
    "print(\"Statistical oulier removal\")\n",
    "cl, ind = pcd.remove_statistical_outlier(nb_neighbors=20,\n",
    "                                         std_ratio=0.3)\n",
    "\n",
    "'''\n",
    "重要函数：\n",
    "    remove_statistical_outlier()\n",
    "输入参数；\n",
    "    nb_neihbors: which specifies how many neighbors are taken into account in order to calculate \n",
    "                 the average distance for a given point\n",
    "    std_ratio: which allows setting the threshold level based on the standard deviation of the \n",
    "               average distances across the point cloud. The lower this number the more aggressive \n",
    "               the filter will be.\n",
    "'''\n",
    "\n",
    "\n",
    "fil_pc = pcd.select_by_index(ind)\n",
    "o3d.visualization.draw_geometries([fil_pc], window_name=\"统计滤波\",\n",
    "                                  width=1024, height=768,\n",
    "                                  left=50, top=50,\n",
    "                                  mesh_show_back_face=False)\n",
    "\n",
    "o3d.io.write_point_cloud('fil_rect_prism.pcd', fil_pc)"
   ]
  },
  {
   "cell_type": "code",
   "execution_count": null,
   "id": "28db84cd",
   "metadata": {},
   "outputs": [],
   "source": []
  },
  {
   "cell_type": "code",
   "execution_count": null,
   "id": "c98aaa8a",
   "metadata": {},
   "outputs": [],
   "source": []
  },
  {
   "cell_type": "code",
   "execution_count": null,
   "id": "d483a1a1",
   "metadata": {},
   "outputs": [],
   "source": []
  },
  {
   "cell_type": "code",
   "execution_count": null,
   "id": "25a54144",
   "metadata": {},
   "outputs": [],
   "source": []
  }
 ],
 "metadata": {
  "kernelspec": {
   "display_name": "Python 3 (ipykernel)",
   "language": "python",
   "name": "python3"
  },
  "language_info": {
   "codemirror_mode": {
    "name": "ipython",
    "version": 3
   },
   "file_extension": ".py",
   "mimetype": "text/x-python",
   "name": "python",
   "nbconvert_exporter": "python",
   "pygments_lexer": "ipython3",
   "version": "3.9.13"
  }
 },
 "nbformat": 4,
 "nbformat_minor": 5
}
